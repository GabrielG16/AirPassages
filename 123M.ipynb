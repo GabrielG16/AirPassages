{
 "cells": [
  {
   "cell_type": "code",
   "execution_count": 3,
   "id": "3798ea08-94d4-4d50-811f-60ed95e5e0d6",
   "metadata": {},
   "outputs": [
    {
     "data": {
      "application/javascript": [
       "\n",
       "            setTimeout(function() {\n",
       "                var nbb_cell_id = 3;\n",
       "                var nbb_unformatted_code = \"# Imports\\nfrom bs4 import BeautifulSoup\\nfrom selenium import webdriver\\nimport requests\\n\\nfrom selenium.webdriver.common.keys import Keys\\nfrom selenium.webdriver.support.wait import WebDriverWait\\nfrom selenium.webdriver.support import expected_conditions as EC\\nfrom selenium.webdriver.common.by import By\\nfrom selenium.webdriver.chrome.options import Options\\n\\nfrom datetime import datetime\\n\\nimport time\\nimport lxml\\nimport pandas as pd\";\n",
       "                var nbb_formatted_code = \"# Imports\\nfrom bs4 import BeautifulSoup\\nfrom selenium import webdriver\\nimport requests\\n\\nfrom selenium.webdriver.common.keys import Keys\\nfrom selenium.webdriver.support.wait import WebDriverWait\\nfrom selenium.webdriver.support import expected_conditions as EC\\nfrom selenium.webdriver.common.by import By\\nfrom selenium.webdriver.chrome.options import Options\\n\\nfrom datetime import datetime\\n\\nimport time\\nimport lxml\\nimport pandas as pd\";\n",
       "                var nbb_cells = Jupyter.notebook.get_cells();\n",
       "                for (var i = 0; i < nbb_cells.length; ++i) {\n",
       "                    if (nbb_cells[i].input_prompt_number == nbb_cell_id) {\n",
       "                        if (nbb_cells[i].get_text() == nbb_unformatted_code) {\n",
       "                             nbb_cells[i].set_text(nbb_formatted_code);\n",
       "                        }\n",
       "                        break;\n",
       "                    }\n",
       "                }\n",
       "            }, 500);\n",
       "            "
      ],
      "text/plain": [
       "<IPython.core.display.Javascript object>"
      ]
     },
     "metadata": {},
     "output_type": "display_data"
    }
   ],
   "source": [
    "# Imports\n",
    "from bs4 import BeautifulSoup\n",
    "from selenium import webdriver\n",
    "import requests\n",
    "\n",
    "from selenium.webdriver.common.keys import Keys\n",
    "from selenium.webdriver.support.wait import WebDriverWait\n",
    "from selenium.webdriver.support import expected_conditions as EC\n",
    "from selenium.webdriver.common.by import By\n",
    "from selenium.webdriver.chrome.options import Options\n",
    "\n",
    "from datetime import datetime\n",
    "\n",
    "import time\n",
    "import lxml\n",
    "import pandas as pd\n"
   ]
  },
  {
   "cell_type": "code",
   "execution_count": 4,
   "id": "3aca7b13-cc60-4da9-94c2-3090bf82743d",
   "metadata": {},
   "outputs": [
    {
     "data": {
      "application/javascript": [
       "\n",
       "            setTimeout(function() {\n",
       "                var nbb_cell_id = 4;\n",
       "                var nbb_unformatted_code = \"options123 = Options()\\noptionsGoogle = Options()\\n\\noptionsGoogle.add_argument('--start-maximized')\\noptions123.add_argument('--window-size=(1920,1080)')\\n#options.add_argument('--headless')\";\n",
       "                var nbb_formatted_code = \"options123 = Options()\\noptionsGoogle = Options()\\n\\noptionsGoogle.add_argument(\\\"--start-maximized\\\")\\noptions123.add_argument(\\\"--window-size=(1920,1080)\\\")\\n# options.add_argument('--headless')\";\n",
       "                var nbb_cells = Jupyter.notebook.get_cells();\n",
       "                for (var i = 0; i < nbb_cells.length; ++i) {\n",
       "                    if (nbb_cells[i].input_prompt_number == nbb_cell_id) {\n",
       "                        if (nbb_cells[i].get_text() == nbb_unformatted_code) {\n",
       "                             nbb_cells[i].set_text(nbb_formatted_code);\n",
       "                        }\n",
       "                        break;\n",
       "                    }\n",
       "                }\n",
       "            }, 500);\n",
       "            "
      ],
      "text/plain": [
       "<IPython.core.display.Javascript object>"
      ]
     },
     "metadata": {},
     "output_type": "display_data"
    }
   ],
   "source": [
    "options123 = Options()\n",
    "optionsGoogle = Options()\n",
    "\n",
    "optionsGoogle.add_argument('--start-maximized')\n",
    "options123.add_argument('--window-size=(1920,1080)')\n",
    "#options.add_argument('--headless')"
   ]
  },
  {
   "cell_type": "code",
   "execution_count": 5,
   "id": "6234675f-57f1-4e1b-9b02-8a9664aedd93",
   "metadata": {},
   "outputs": [
    {
     "name": "stdin",
     "output_type": "stream",
     "text": [
      "Cidade partida:  São Paulo\n",
      "Cidade destino:  Maceió\n",
      "Data de partida(dd/mm/yyyy):  27/05/2022\n",
      "Data de retorno (dd/mm/yyyy):  02/06/2022\n"
     ]
    },
    {
     "data": {
      "application/javascript": [
       "\n",
       "            setTimeout(function() {\n",
       "                var nbb_cell_id = 5;\n",
       "                var nbb_unformatted_code = \"cidade_origem  = input('Cidade partida: ')\\ncidade_destino = input('Cidade destino: ')\\n\\n\\ndata_partida = input('Data de partida(dd/mm/yyyy): ')\\ndata_retorno = input('Data de retorno (dd/mm/yyyy): ')\";\n",
       "                var nbb_formatted_code = \"cidade_origem = input(\\\"Cidade partida: \\\")\\ncidade_destino = input(\\\"Cidade destino: \\\")\\n\\n\\ndata_partida = input(\\\"Data de partida(dd/mm/yyyy): \\\")\\ndata_retorno = input(\\\"Data de retorno (dd/mm/yyyy): \\\")\";\n",
       "                var nbb_cells = Jupyter.notebook.get_cells();\n",
       "                for (var i = 0; i < nbb_cells.length; ++i) {\n",
       "                    if (nbb_cells[i].input_prompt_number == nbb_cell_id) {\n",
       "                        if (nbb_cells[i].get_text() == nbb_unformatted_code) {\n",
       "                             nbb_cells[i].set_text(nbb_formatted_code);\n",
       "                        }\n",
       "                        break;\n",
       "                    }\n",
       "                }\n",
       "            }, 500);\n",
       "            "
      ],
      "text/plain": [
       "<IPython.core.display.Javascript object>"
      ]
     },
     "metadata": {},
     "output_type": "display_data"
    }
   ],
   "source": [
    "cidade_origem  = input('Cidade partida: ')\n",
    "cidade_destino = input('Cidade destino: ')\n",
    "\n",
    "\n",
    "data_partida = input('Data de partida(dd/mm/yyyy): ')\n",
    "data_retorno = input('Data de retorno (dd/mm/yyyy): ')"
   ]
  },
  {
   "cell_type": "code",
   "execution_count": 15,
   "id": "6bf22587-275f-4729-a110-85b0cd82097f",
   "metadata": {},
   "outputs": [
    {
     "data": {
      "application/javascript": [
       "\n",
       "            setTimeout(function() {\n",
       "                var nbb_cell_id = 15;\n",
       "                var nbb_unformatted_code = \"def realiza_pesquisa_123(cidade_origem, cidade_destino, data_partida, data_retorno):\\n    \\n    navegador = webdriver.Chrome(options = options123)\\n\\n    milhas = navegador.get('https://123milhas.com/')\\n    \\n\\n    time.sleep(3)\\n    \\n    origem = navegador.find_element_by_xpath('//*[@id=\\\"__next\\\"]/div/main/div[2]/form/div/div[2]/div[1]/div[1]/div/div[1]/input')\\n    origem.send_keys(cidade_origem)\\n    time.sleep(1)\\n    origem.send_keys(Keys.ENTER)\\n\\n    destino = navegador.find_element_by_xpath('//*[@id=\\\"__next\\\"]/div/main/div[2]/form/div/div[2]/div[1]/div[3]/div/div[1]/input')\\n    destino.send_keys(cidade_destino)\\n    time.sleep(1)\\n    destino.send_keys(Keys.ENTER)\\n\\n    data_ida = navegador.find_element(by ='id', value = 'datepicker-ida')\\n    data_ida.send_keys(data_partida)\\n\\n    data_volta = navegador.find_element(by ='id', value = 'datepicker-volta')\\n    data_volta.send_keys(data_retorno)\\n\\n    data_volta.send_keys(Keys.ENTER)\\n    \\n    navegador.switch_to.window(navegador.window_handles[1])\\n    try:\\n        WebDriverWait(navegador, timeout = 36).until(EC.presence_of_element_located((By.XPATH,'//*[@id=\\\"frmPriceGroup306\\\"]/div[2]/card-header/div/div')))\\n    except:\\n        print('Timeout!')\\n    df = coleta_resultados_123(navegador)\\n    return df\";\n",
       "                var nbb_formatted_code = \"def realiza_pesquisa_123(cidade_origem, cidade_destino, data_partida, data_retorno):\\n\\n    navegador = webdriver.Chrome(options=options123)\\n\\n    milhas = navegador.get(\\\"https://123milhas.com/\\\")\\n\\n    time.sleep(3)\\n\\n    origem = navegador.find_element_by_xpath(\\n        '//*[@id=\\\"__next\\\"]/div/main/div[2]/form/div/div[2]/div[1]/div[1]/div/div[1]/input'\\n    )\\n    origem.send_keys(cidade_origem)\\n    time.sleep(1)\\n    origem.send_keys(Keys.ENTER)\\n\\n    destino = navegador.find_element_by_xpath(\\n        '//*[@id=\\\"__next\\\"]/div/main/div[2]/form/div/div[2]/div[1]/div[3]/div/div[1]/input'\\n    )\\n    destino.send_keys(cidade_destino)\\n    time.sleep(1)\\n    destino.send_keys(Keys.ENTER)\\n\\n    data_ida = navegador.find_element(by=\\\"id\\\", value=\\\"datepicker-ida\\\")\\n    data_ida.send_keys(data_partida)\\n\\n    data_volta = navegador.find_element(by=\\\"id\\\", value=\\\"datepicker-volta\\\")\\n    data_volta.send_keys(data_retorno)\\n\\n    data_volta.send_keys(Keys.ENTER)\\n\\n    navegador.switch_to.window(navegador.window_handles[1])\\n    try:\\n        WebDriverWait(navegador, timeout=36).until(\\n            EC.presence_of_element_located(\\n                (By.XPATH, '//*[@id=\\\"frmPriceGroup306\\\"]/div[2]/card-header/div/div')\\n            )\\n        )\\n    except:\\n        print(\\\"Timeout!\\\")\\n    df = coleta_resultados_123(navegador)\\n    return df\";\n",
       "                var nbb_cells = Jupyter.notebook.get_cells();\n",
       "                for (var i = 0; i < nbb_cells.length; ++i) {\n",
       "                    if (nbb_cells[i].input_prompt_number == nbb_cell_id) {\n",
       "                        if (nbb_cells[i].get_text() == nbb_unformatted_code) {\n",
       "                             nbb_cells[i].set_text(nbb_formatted_code);\n",
       "                        }\n",
       "                        break;\n",
       "                    }\n",
       "                }\n",
       "            }, 500);\n",
       "            "
      ],
      "text/plain": [
       "<IPython.core.display.Javascript object>"
      ]
     },
     "metadata": {},
     "output_type": "display_data"
    }
   ],
   "source": [
    "def realiza_pesquisa_123(cidade_origem, cidade_destino, data_partida, data_retorno):\n",
    "    \n",
    "    navegador = webdriver.Chrome(options = options123)\n",
    "\n",
    "    milhas = navegador.get('https://123milhas.com/')\n",
    "    \n",
    "\n",
    "    time.sleep(3)\n",
    "    \n",
    "    origem = navegador.find_element_by_xpath('//*[@id=\"__next\"]/div/main/div[2]/form/div/div[2]/div[1]/div[1]/div/div[1]/input')\n",
    "    origem.send_keys(cidade_origem)\n",
    "    time.sleep(1)\n",
    "    origem.send_keys(Keys.ENTER)\n",
    "\n",
    "    destino = navegador.find_element_by_xpath('//*[@id=\"__next\"]/div/main/div[2]/form/div/div[2]/div[1]/div[3]/div/div[1]/input')\n",
    "    destino.send_keys(cidade_destino)\n",
    "    time.sleep(1)\n",
    "    destino.send_keys(Keys.ENTER)\n",
    "\n",
    "    data_ida = navegador.find_element(by ='id', value = 'datepicker-ida')\n",
    "    data_ida.send_keys(data_partida)\n",
    "\n",
    "    data_volta = navegador.find_element(by ='id', value = 'datepicker-volta')\n",
    "    data_volta.send_keys(data_retorno)\n",
    "\n",
    "    data_volta.send_keys(Keys.ENTER)\n",
    "    \n",
    "    navegador.switch_to.window(navegador.window_handles[1])\n",
    "    try:\n",
    "        WebDriverWait(navegador, timeout = 36).until(EC.presence_of_element_located((By.XPATH,'//*[@id=\"frmPriceGroup306\"]/div[2]/card-header/div/div')))\n",
    "    except:\n",
    "        print('Timeout!')\n",
    "        \n",
    "    df = fetch_123(navegador)\n",
    "    return df"
   ]
  },
  {
   "cell_type": "code",
   "execution_count": 18,
   "id": "14be49af-2080-4183-9e0d-8f24243f9514",
   "metadata": {
    "tags": []
   },
   "outputs": [
    {
     "data": {
      "application/javascript": [
       "\n",
       "            setTimeout(function() {\n",
       "                var nbb_cell_id = 18;\n",
       "                var nbb_unformatted_code = \"def coleta_resultados_123(navegador):\\n    voos   = []\\n    idas   = []\\n    voltas = []\\n\\n    soup = BeautifulSoup(navegador.page_source, 'lxml')\\n\\n    for item in soup.find_all('div',class_='flight-price-card__grid-box'):\\n\\n        preco = item.find('div', class_ = 'price-details__item-holder price-details__item-holder--highlighted').find_all('span')[1].text.split()[0]\\n\\n        #lista de voos de ida\\n        for ida in item.find_all('div', class_= 'flight-holder__container')[0].find_all('label',class_='flight-time-holder flight-time-holder--thin theme-text--body-3 theme-text--fake-black flight-time-itens__label flight-time__flight-search'):\\n\\n            aero_ida        = ida.find('div', class_ = 'flight-time__legs').p.text\\n            comp_ida        = ida.find('label', class_='flight-time__cia-label theme-text--caption-1').text\\n            horario_ida     = ida.find('div', class_='flight-time__legs').span.text.split()[0]\\n            aero_chegada    = ida.find_all('p')[1].text\\n            duracao         = ida.find('div', class_='flight-time__legs').find_all('span')[2].text\\n            horario_chegada = ida.find('div', class_='flight-time__legs').find_all('span')[3].div.text.split()[0]\\n\\n            voos.append(['IDA', aero_ida, comp_ida, horario_ida, duracao, horario_chegada, aero_chegada, preco])\\n\\n        #Lista de voos de volta\\n        for volta in item.find_all('div', class_= 'flight-holder__container')[1].find_all('label',class_='flight-time-holder flight-time-holder--thin theme-text--body-3 theme-text--fake-black flight-time-itens__label flight-time__flight-search'):\\n\\n            comp_volta            = volta.find('label', class_='flight-time__cia-label theme-text--caption-1').text\\n            horario_volta         = volta.find('div', class_='flight-time__legs').span.text.split()[0]\\n            horario_volta_chegada = volta.find_all('div', class_='theme-text--subtitle-1')[1].text.split()[0]\\n            aero_volta            = volta.find('div', class_ = 'flight-time__legs').p.text\\n            aero_volta_ida        = volta.find('div', class_ = 'flight-time__legs').find_all('p')[1].text\\n            duracao_volta         = volta.find('div', class_='flight-time__legs').find_all('span')[2].text\\n\\n            voos.append(['VOLTA', aero_volta_ida, comp_volta, horario_volta, duracao_volta,  horario_volta_chegada, aero_volta, preco])\\n        voos.append(['-','-','-','-','-','-','-','-'])\\n    fetch = pd.DataFrame(voos, columns = ['SENTIDO','Aero Sa\\u00edda','Companhia Sa\\u00edda','Hora Sa\\u00edda', 'Dura\\u00e7\\u00e3o','Horario chegada', 'Aero Chegada', 'Preco'])\\n    \\n    return fetch\";\n",
       "                var nbb_formatted_code = \"def coleta_resultados_123(navegador):\\n    voos = []\\n    idas = []\\n    voltas = []\\n\\n    soup = BeautifulSoup(navegador.page_source, \\\"lxml\\\")\\n\\n    for item in soup.find_all(\\\"div\\\", class_=\\\"flight-price-card__grid-box\\\"):\\n\\n        preco = (\\n            item.find(\\n                \\\"div\\\",\\n                class_=\\\"price-details__item-holder price-details__item-holder--highlighted\\\",\\n            )\\n            .find_all(\\\"span\\\")[1]\\n            .text.split()[0]\\n        )\\n\\n        # lista de voos de ida\\n        for ida in item.find_all(\\\"div\\\", class_=\\\"flight-holder__container\\\")[0].find_all(\\n            \\\"label\\\",\\n            class_=\\\"flight-time-holder flight-time-holder--thin theme-text--body-3 theme-text--fake-black flight-time-itens__label flight-time__flight-search\\\",\\n        ):\\n\\n            aero_ida = ida.find(\\\"div\\\", class_=\\\"flight-time__legs\\\").p.text\\n            comp_ida = ida.find(\\n                \\\"label\\\", class_=\\\"flight-time__cia-label theme-text--caption-1\\\"\\n            ).text\\n            horario_ida = ida.find(\\\"div\\\", class_=\\\"flight-time__legs\\\").span.text.split()[\\n                0\\n            ]\\n            aero_chegada = ida.find_all(\\\"p\\\")[1].text\\n            duracao = (\\n                ida.find(\\\"div\\\", class_=\\\"flight-time__legs\\\").find_all(\\\"span\\\")[2].text\\n            )\\n            horario_chegada = (\\n                ida.find(\\\"div\\\", class_=\\\"flight-time__legs\\\")\\n                .find_all(\\\"span\\\")[3]\\n                .div.text.split()[0]\\n            )\\n\\n            voos.append(\\n                [\\n                    \\\"IDA\\\",\\n                    aero_ida,\\n                    comp_ida,\\n                    horario_ida,\\n                    duracao,\\n                    horario_chegada,\\n                    aero_chegada,\\n                    preco,\\n                ]\\n            )\\n\\n        # Lista de voos de volta\\n        for volta in item.find_all(\\\"div\\\", class_=\\\"flight-holder__container\\\")[\\n            1\\n        ].find_all(\\n            \\\"label\\\",\\n            class_=\\\"flight-time-holder flight-time-holder--thin theme-text--body-3 theme-text--fake-black flight-time-itens__label flight-time__flight-search\\\",\\n        ):\\n\\n            comp_volta = volta.find(\\n                \\\"label\\\", class_=\\\"flight-time__cia-label theme-text--caption-1\\\"\\n            ).text\\n            horario_volta = volta.find(\\n                \\\"div\\\", class_=\\\"flight-time__legs\\\"\\n            ).span.text.split()[0]\\n            horario_volta_chegada = volta.find_all(\\n                \\\"div\\\", class_=\\\"theme-text--subtitle-1\\\"\\n            )[1].text.split()[0]\\n            aero_volta = volta.find(\\\"div\\\", class_=\\\"flight-time__legs\\\").p.text\\n            aero_volta_ida = (\\n                volta.find(\\\"div\\\", class_=\\\"flight-time__legs\\\").find_all(\\\"p\\\")[1].text\\n            )\\n            duracao_volta = (\\n                volta.find(\\\"div\\\", class_=\\\"flight-time__legs\\\").find_all(\\\"span\\\")[2].text\\n            )\\n\\n            voos.append(\\n                [\\n                    \\\"VOLTA\\\",\\n                    aero_volta_ida,\\n                    comp_volta,\\n                    horario_volta,\\n                    duracao_volta,\\n                    horario_volta_chegada,\\n                    aero_volta,\\n                    preco,\\n                ]\\n            )\\n        voos.append([\\\"-\\\", \\\"-\\\", \\\"-\\\", \\\"-\\\", \\\"-\\\", \\\"-\\\", \\\"-\\\", \\\"-\\\"])\\n    fetch = pd.DataFrame(\\n        voos,\\n        columns=[\\n            \\\"SENTIDO\\\",\\n            \\\"Aero Sa\\u00edda\\\",\\n            \\\"Companhia Sa\\u00edda\\\",\\n            \\\"Hora Sa\\u00edda\\\",\\n            \\\"Dura\\u00e7\\u00e3o\\\",\\n            \\\"Horario chegada\\\",\\n            \\\"Aero Chegada\\\",\\n            \\\"Preco\\\",\\n        ],\\n    )\\n\\n    return fetch\";\n",
       "                var nbb_cells = Jupyter.notebook.get_cells();\n",
       "                for (var i = 0; i < nbb_cells.length; ++i) {\n",
       "                    if (nbb_cells[i].input_prompt_number == nbb_cell_id) {\n",
       "                        if (nbb_cells[i].get_text() == nbb_unformatted_code) {\n",
       "                             nbb_cells[i].set_text(nbb_formatted_code);\n",
       "                        }\n",
       "                        break;\n",
       "                    }\n",
       "                }\n",
       "            }, 500);\n",
       "            "
      ],
      "text/plain": [
       "<IPython.core.display.Javascript object>"
      ]
     },
     "metadata": {},
     "output_type": "display_data"
    }
   ],
   "source": [
    "def fetch_123(navegador):\n",
    "    voos   = []\n",
    "    idas   = []\n",
    "    voltas = []\n",
    "\n",
    "    soup = BeautifulSoup(navegador.page_source, 'lxml')\n",
    "\n",
    "    for item in soup.find_all('div',class_='flight-price-card__grid-box'):\n",
    "\n",
    "        preco = item.find('div', class_ = 'price-details__item-holder price-details__item-holder--highlighted').find_all('span')[1].text.split()[0]\n",
    "\n",
    "        #lista de voos de ida\n",
    "        for ida in item.find_all('div', class_= 'flight-holder__container')[0].find_all('label',class_='flight-time-holder flight-time-holder--thin theme-text--body-3 theme-text--fake-black flight-time-itens__label flight-time__flight-search'):\n",
    "\n",
    "            aero_ida        = ida.find('div', class_ = 'flight-time__legs').p.text\n",
    "            comp_ida        = ida.find('label', class_='flight-time__cia-label theme-text--caption-1').text\n",
    "            horario_ida     = ida.find('div', class_='flight-time__legs').span.text.split()[0]\n",
    "            aero_chegada    = ida.find_all('p')[1].text\n",
    "            duracao         = ida.find('div', class_='flight-time__legs').find_all('span')[2].text\n",
    "            horario_chegada = ida.find('div', class_='flight-time__legs').find_all('span')[3].div.text.split()[0]\n",
    "\n",
    "            voos.append(['IDA', aero_ida, comp_ida, horario_ida, duracao, horario_chegada, aero_chegada, preco])\n",
    "\n",
    "        #Lista de voos de volta\n",
    "        for volta in item.find_all('div', class_= 'flight-holder__container')[1].find_all('label',class_='flight-time-holder flight-time-holder--thin theme-text--body-3 theme-text--fake-black flight-time-itens__label flight-time__flight-search'):\n",
    "\n",
    "            comp_volta            = volta.find('label', class_='flight-time__cia-label theme-text--caption-1').text\n",
    "            horario_volta         = volta.find('div', class_='flight-time__legs').span.text.split()[0]\n",
    "            horario_volta_chegada = volta.find_all('div', class_='theme-text--subtitle-1')[1].text.split()[0]\n",
    "            aero_volta            = volta.find('div', class_ = 'flight-time__legs').p.text\n",
    "            aero_volta_ida        = volta.find('div', class_ = 'flight-time__legs').find_all('p')[1].text\n",
    "            duracao_volta         = volta.find('div', class_='flight-time__legs').find_all('span')[2].text\n",
    "\n",
    "            voos.append(['VOLTA', aero_volta_ida, comp_volta, horario_volta, duracao_volta,  horario_volta_chegada, aero_volta, preco])\n",
    "        voos.append(['-','-','-','-','-','-','-','-'])\n",
    "    fetch = pd.DataFrame(voos, columns = ['SENTIDO','Aero Saída','Companhia Saída','Hora Saída', 'Duração','Horario chegada', 'Aero Chegada', 'Preco'])\n",
    "    \n",
    "    return fetch"
   ]
  },
  {
   "cell_type": "code",
   "execution_count": 54,
   "id": "aaef8642-353e-4cc1-a40c-0e0ff6502b43",
   "metadata": {
    "tags": []
   },
   "outputs": [
    {
     "name": "stdout",
     "output_type": "stream",
     "text": [
      "Timeout!\n"
     ]
    },
    {
     "data": {
      "text/html": [
       "<div>\n",
       "<style scoped>\n",
       "    .dataframe tbody tr th:only-of-type {\n",
       "        vertical-align: middle;\n",
       "    }\n",
       "\n",
       "    .dataframe tbody tr th {\n",
       "        vertical-align: top;\n",
       "    }\n",
       "\n",
       "    .dataframe thead th {\n",
       "        text-align: right;\n",
       "    }\n",
       "</style>\n",
       "<table border=\"1\" class=\"dataframe\">\n",
       "  <thead>\n",
       "    <tr style=\"text-align: right;\">\n",
       "      <th></th>\n",
       "      <th>SENTIDO</th>\n",
       "      <th>Aero Saída</th>\n",
       "      <th>Companhia Saída</th>\n",
       "      <th>Hora Saída</th>\n",
       "      <th>Duração</th>\n",
       "      <th>Horario chegada</th>\n",
       "      <th>Aero Chegada</th>\n",
       "      <th>Preco</th>\n",
       "    </tr>\n",
       "  </thead>\n",
       "  <tbody>\n",
       "  </tbody>\n",
       "</table>\n",
       "</div>"
      ],
      "text/plain": [
       "Empty DataFrame\n",
       "Columns: [SENTIDO, Aero Saída, Companhia Saída, Hora Saída, Duração, Horario chegada, Aero Chegada, Preco]\n",
       "Index: []"
      ]
     },
     "metadata": {},
     "output_type": "display_data"
    },
    {
     "data": {
      "application/javascript": [
       "\n",
       "            setTimeout(function() {\n",
       "                var nbb_cell_id = 54;\n",
       "                var nbb_unformatted_code = \"m123 = realiza_pesquisa_123(cidade_origem, cidade_destino, data_partida, data_retorno)\\ndisplay(m123)\";\n",
       "                var nbb_formatted_code = \"m123 = realiza_pesquisa_123(cidade_origem, cidade_destino, data_partida, data_retorno)\\ndisplay(m123)\";\n",
       "                var nbb_cells = Jupyter.notebook.get_cells();\n",
       "                for (var i = 0; i < nbb_cells.length; ++i) {\n",
       "                    if (nbb_cells[i].input_prompt_number == nbb_cell_id) {\n",
       "                        if (nbb_cells[i].get_text() == nbb_unformatted_code) {\n",
       "                             nbb_cells[i].set_text(nbb_formatted_code);\n",
       "                        }\n",
       "                        break;\n",
       "                    }\n",
       "                }\n",
       "            }, 500);\n",
       "            "
      ],
      "text/plain": [
       "<IPython.core.display.Javascript object>"
      ]
     },
     "metadata": {},
     "output_type": "display_data"
    }
   ],
   "source": [
    "m123 = realiza_pesquisa_123(cidade_origem, cidade_destino, data_partida, data_retorno)\n",
    "display(m123)"
   ]
  },
  {
   "cell_type": "code",
   "execution_count": 55,
   "id": "f56ec17f-1eb3-4639-abaf-aafe557d024c",
   "metadata": {
    "tags": []
   },
   "outputs": [
    {
     "data": {
      "application/javascript": [
       "\n",
       "            setTimeout(function() {\n",
       "                var nbb_cell_id = 55;\n",
       "                var nbb_unformatted_code = \"def coleta_resultados_google(cidade_origem, cidade_destino, data_partida, data_retorno):\\n    \\n    navegador = webdriver.Chrome(options = optionsGoogle)\\n    navegador.implicitly_wait(5)\\n\\n    \\n    gflights = navegador.get('https://www.google.com/travel/flights')\\n    #WebDriverWait(driver, 10).until(EC.element_to_be_clickable((By.XPATH, '//*[@id=\\\"i6\\\"]/div[1]/div/div/div[1]/div/div/input')))time.sleep(1)\\n\\n    #ORIGEM\\n    origem = navegador.find_element_by_tag_name('input')\\n    origem.clear()\\n    clicker = navegador.find_element_by_xpath('//*[@id=\\\"i15\\\"]/div[1]/div/div/div[1]/div/div')\\n    clicker.click()\\n    text_fill = navegador.find_element_by_xpath('//*[@id=\\\"i15\\\"]/div[6]/div[2]/div[2]/div[1]/div/input')\\n    text_fill.send_keys('S\\u00e3o Paulo')# origem_texto = navegador.find_elements_by_tag_name('input')\\n    text_fill.send_keys(Keys.ARROW_DOWN, Keys.ENTER)\\n\\n    #DESTINO\\n    destino = navegador.find_elements_by_tag_name('input')[2]\\n    destino.clear()\\n    clicker = navegador.find_element_by_xpath('//*[@id=\\\"i15\\\"]/div[4]/div')\\n    clicker.click()\\n    text_fill = navegador.find_element_by_xpath('//*[@id=\\\"i15\\\"]/div[6]/div[2]/div[2]/div[1]/div/input')\\n    text_fill.send_keys('Macei\\u00f3')\\n    time.sleep(1)\\n    text_fill.send_keys(Keys.ARROW_DOWN, Keys.ENTER)\\n\\n\\n    #DATAS\\n    fpartida, fretorno = google_ftime(data_partida, data_retorno)\\n\\n    campo_ida = navegador.find_element_by_xpath('//*[@id=\\\"yDmH0d\\\"]/c-wiz[2]/div/div[2]/c-wiz/div/c-wiz/c-wiz/div[2]/div[1]/div[1]/div[1]/div[2]/div[2]/div/div/div[1]/div/div/div[1]/div/div[1]/div')\\n    campo_ida.click()\\n\\n    #RESET\\n    WebDriverWait(navegador, timeout = 5).until(EC.element_to_be_clickable((By.XPATH, '//*[@id=\\\"ow60\\\"]/div[2]/div/div[2]/div[1]/div[2]/div[2]/button/span')))\\n    time.sleep(1)\\n    navegador.find_element_by_xpath('//*[@id=\\\"ow60\\\"]/div[2]/div/div[2]/div[1]/div[2]/div[2]/button/span').click()\\n\\n    #DATA_PARTIDA\\n    time.sleep(1)\\n    data_ida = navegador.find_element_by_xpath('//*[@id=\\\"ow60\\\"]/div[2]/div/div[2]/div[1]/div[1]/div[1]/div/input')\\n    data_ida.send_keys(fpartida)\\n    time.sleep(0.5)\\n\\n    #DATA_VOLTA\\n    data_volta = navegador.find_element_by_xpath('//*[@id=\\\"ow60\\\"]/div[2]/div/div[2]/div[1]/div[1]/div[2]/div/input')\\n    data_volta.send_keys(fretorno, Keys.ENTER)\\n    time.sleep(0.5)\\n    navegador.find_element_by_xpath('//*[@id=\\\"ow60\\\"]/div[2]/div/div[3]/div[3]/div/button').click()\\n\\n    time.sleep(3)\\n    \\n    fetch = fetch_google(navegador)\\n    \\n    return fetch\\n    \";\n",
       "                var nbb_formatted_code = \"def coleta_resultados_google(cidade_origem, cidade_destino, data_partida, data_retorno):\\n\\n    navegador = webdriver.Chrome(options=optionsGoogle)\\n    navegador.implicitly_wait(5)\\n\\n    gflights = navegador.get(\\\"https://www.google.com/travel/flights\\\")\\n    # WebDriverWait(driver, 10).until(EC.element_to_be_clickable((By.XPATH, '//*[@id=\\\"i6\\\"]/div[1]/div/div/div[1]/div/div/input')))time.sleep(1)\\n\\n    # ORIGEM\\n    origem = navegador.find_element_by_tag_name(\\\"input\\\")\\n    origem.clear()\\n    clicker = navegador.find_element_by_xpath(\\n        '//*[@id=\\\"i15\\\"]/div[1]/div/div/div[1]/div/div'\\n    )\\n    clicker.click()\\n    text_fill = navegador.find_element_by_xpath(\\n        '//*[@id=\\\"i15\\\"]/div[6]/div[2]/div[2]/div[1]/div/input'\\n    )\\n    text_fill.send_keys(\\n        \\\"S\\u00e3o Paulo\\\"\\n    )  # origem_texto = navegador.find_elements_by_tag_name('input')\\n    text_fill.send_keys(Keys.ARROW_DOWN, Keys.ENTER)\\n\\n    # DESTINO\\n    destino = navegador.find_elements_by_tag_name(\\\"input\\\")[2]\\n    destino.clear()\\n    clicker = navegador.find_element_by_xpath('//*[@id=\\\"i15\\\"]/div[4]/div')\\n    clicker.click()\\n    text_fill = navegador.find_element_by_xpath(\\n        '//*[@id=\\\"i15\\\"]/div[6]/div[2]/div[2]/div[1]/div/input'\\n    )\\n    text_fill.send_keys(\\\"Macei\\u00f3\\\")\\n    time.sleep(1)\\n    text_fill.send_keys(Keys.ARROW_DOWN, Keys.ENTER)\\n\\n    # DATAS\\n    fpartida, fretorno = google_ftime(data_partida, data_retorno)\\n\\n    campo_ida = navegador.find_element_by_xpath(\\n        '//*[@id=\\\"yDmH0d\\\"]/c-wiz[2]/div/div[2]/c-wiz/div/c-wiz/c-wiz/div[2]/div[1]/div[1]/div[1]/div[2]/div[2]/div/div/div[1]/div/div/div[1]/div/div[1]/div'\\n    )\\n    campo_ida.click()\\n\\n    # RESET\\n    WebDriverWait(navegador, timeout=5).until(\\n        EC.element_to_be_clickable(\\n            (\\n                By.XPATH,\\n                '//*[@id=\\\"ow60\\\"]/div[2]/div/div[2]/div[1]/div[2]/div[2]/button/span',\\n            )\\n        )\\n    )\\n    time.sleep(1)\\n    navegador.find_element_by_xpath(\\n        '//*[@id=\\\"ow60\\\"]/div[2]/div/div[2]/div[1]/div[2]/div[2]/button/span'\\n    ).click()\\n\\n    # DATA_PARTIDA\\n    time.sleep(1)\\n    data_ida = navegador.find_element_by_xpath(\\n        '//*[@id=\\\"ow60\\\"]/div[2]/div/div[2]/div[1]/div[1]/div[1]/div/input'\\n    )\\n    data_ida.send_keys(fpartida)\\n    time.sleep(0.5)\\n\\n    # DATA_VOLTA\\n    data_volta = navegador.find_element_by_xpath(\\n        '//*[@id=\\\"ow60\\\"]/div[2]/div/div[2]/div[1]/div[1]/div[2]/div/input'\\n    )\\n    data_volta.send_keys(fretorno, Keys.ENTER)\\n    time.sleep(0.5)\\n    navegador.find_element_by_xpath(\\n        '//*[@id=\\\"ow60\\\"]/div[2]/div/div[3]/div[3]/div/button'\\n    ).click()\\n\\n    time.sleep(3)\\n\\n    fetch = fetch_google(navegador)\\n\\n    return fetch\";\n",
       "                var nbb_cells = Jupyter.notebook.get_cells();\n",
       "                for (var i = 0; i < nbb_cells.length; ++i) {\n",
       "                    if (nbb_cells[i].input_prompt_number == nbb_cell_id) {\n",
       "                        if (nbb_cells[i].get_text() == nbb_unformatted_code) {\n",
       "                             nbb_cells[i].set_text(nbb_formatted_code);\n",
       "                        }\n",
       "                        break;\n",
       "                    }\n",
       "                }\n",
       "            }, 500);\n",
       "            "
      ],
      "text/plain": [
       "<IPython.core.display.Javascript object>"
      ]
     },
     "metadata": {},
     "output_type": "display_data"
    }
   ],
   "source": [
    "def coleta_resultados_google(cidade_origem, cidade_destino, data_partida, data_retorno):\n",
    "    \n",
    "    navegador = webdriver.Chrome(options = optionsGoogle)\n",
    "    navegador.implicitly_wait(5)\n",
    "\n",
    "    \n",
    "    navegador.get('https://www.google.com/travel/flights')\n",
    "    #WebDriverWait(driver, 10).until(EC.element_to_be_clickable((By.XPATH, '//*[@id=\"i6\"]/div[1]/div/div/div[1]/div/div/input')))time.sleep(1)\n",
    "\n",
    "    #ORIGEM\n",
    "    origem = navegador.find_element_by_tag_name('input')\n",
    "    origem.clear()\n",
    "    clicker = navegador.find_element_by_xpath('//*[@id=\"i15\"]/div[1]/div/div/div[1]/div/div')\n",
    "    clicker.click()\n",
    "    text_fill = navegador.find_element_by_xpath('//*[@id=\"i15\"]/div[6]/div[2]/div[2]/div[1]/div/input')\n",
    "    text_fill.send_keys('São Paulo')# origem_texto = navegador.find_elements_by_tag_name('input')\n",
    "    text_fill.send_keys(Keys.ARROW_DOWN, Keys.ENTER)\n",
    "\n",
    "    #DESTINO\n",
    "    destino = navegador.find_elements_by_tag_name('input')[2]\n",
    "    destino.clear()\n",
    "    clicker = navegador.find_element_by_xpath('//*[@id=\"i15\"]/div[4]/div')\n",
    "    clicker.click()\n",
    "    text_fill = navegador.find_element_by_xpath('//*[@id=\"i15\"]/div[6]/div[2]/div[2]/div[1]/div/input')\n",
    "    text_fill.send_keys('Maceió')\n",
    "    time.sleep(1)\n",
    "    text_fill.send_keys(Keys.ARROW_DOWN, Keys.ENTER)\n",
    "\n",
    "\n",
    "    #DATAS\n",
    "    fpartida, fretorno = google_ftime(data_partida, data_retorno)\n",
    "\n",
    "    campo_ida = navegador.find_element_by_xpath('//*[@id=\"yDmH0d\"]/c-wiz[2]/div/div[2]/c-wiz/div/c-wiz/c-wiz/div[2]/div[1]/div[1]/div[1]/div[2]/div[2]/div/div/div[1]/div/div/div[1]/div/div[1]/div')\n",
    "    campo_ida.click()\n",
    "\n",
    "    #RESET\n",
    "    WebDriverWait(navegador, timeout = 5).until(EC.element_to_be_clickable((By.XPATH, '//*[@id=\"ow60\"]/div[2]/div/div[2]/div[1]/div[2]/div[2]/button/span')))\n",
    "    time.sleep(1)\n",
    "    navegador.find_element_by_xpath('//*[@id=\"ow60\"]/div[2]/div/div[2]/div[1]/div[2]/div[2]/button/span').click()\n",
    "\n",
    "    #DATA_PARTIDA\n",
    "    time.sleep(1)\n",
    "    data_ida = navegador.find_element_by_xpath('//*[@id=\"ow60\"]/div[2]/div/div[2]/div[1]/div[1]/div[1]/div/input')\n",
    "    data_ida.send_keys(fpartida)\n",
    "    time.sleep(0.5)\n",
    "\n",
    "    #DATA_VOLTA\n",
    "    data_volta = navegador.find_element_by_xpath('//*[@id=\"ow60\"]/div[2]/div/div[2]/div[1]/div[1]/div[2]/div/input')\n",
    "    data_volta.send_keys(fretorno, Keys.ENTER)\n",
    "    time.sleep(0.5)\n",
    "    navegador.find_element_by_xpath('//*[@id=\"ow60\"]/div[2]/div/div[3]/div[3]/div/button').click()\n",
    "\n",
    "    time.sleep(3)\n",
    "    \n",
    "    fetch = fetch_google(navegador)\n",
    "    \n",
    "    return fetch\n",
    "    "
   ]
  },
  {
   "cell_type": "code",
   "execution_count": 51,
   "id": "8a0c2cfa-ed70-4762-9857-433917617d5a",
   "metadata": {},
   "outputs": [
    {
     "data": {
      "application/javascript": [
       "\n",
       "            setTimeout(function() {\n",
       "                var nbb_cell_id = 51;\n",
       "                var nbb_unformatted_code = \"def fetch_google(navegador):\\n    idas   = []\\n    voltas = []\\n\\n    soup = BeautifulSoup(navegador.page_source, 'lxml')\\n\\n    for ida in soup.find('div', class_='VKb8lb H4aYKc').find_all('div', class_='mz0jqb taHBqe Qpcsfe'):\\n\\n        preco        = ida.find('div', class_='BVAVmf tPgKwe').span.text\\n        hora_partida = ida.find('div', class_='wtdjmc YMlIz ogfYpf tPgKwe').text\\n        aero_partida = ida.find('div', class_='G2WY5c sSHqwe ogfYpf tPgKwe').text\\n        hora_chegada = ida.find('div', class_='XWcVob YMlIz ogfYpf tPgKwe').text\\n        aero_chegada = ida.find('div', class_='c8rWCd sSHqwe ogfYpf tPgKwe').text\\n        duracao_ida  = ida.find('div', class_='hF6lYb sSHqwe ogfYpf tPgKwe').find_all('span')[4].text\\n        compania_ida = ida.find('div', class_='hF6lYb sSHqwe ogfYpf tPgKwe').find('span', class_='h1fkLb').span.text\\n\\n        idas.append(['IDA', aero_partida, compania_ida, hora_partida, duracao_ida, hora_chegada,  aero_chegada, preco])\\n\\n    #MUDAR PARA TELA DE RETORNOS\\n    navegador.find_element_by_xpath('//*[@id=\\\"yDmH0d\\\"]/c-wiz[2]/div/div[2]/c-wiz/div/c-wiz/c-wiz/div[2]/div[2]/div/div[2]/div[4]/div/div[2]/div/div[1]').click()\\n\\n    time.sleep(2)\\n    soup2 = BeautifulSoup(navegador.page_source, 'lxml')\\n\\n    for volta in soup2.find('div', class_='VKb8lb H4aYKc').find_all('div', class_='mz0jqb taHBqe Qpcsfe'):\\n\\n        preco                = volta.find('div', class_='BVAVmf tPgKwe').span.text\\n        hora_retorno         = volta.find('div', class_='wtdjmc YMlIz ogfYpf tPgKwe').text\\n        aero_retorno         = volta.find('div', class_='G2WY5c sSHqwe ogfYpf tPgKwe').text\\n        hora_chegada_retorno = volta.find('div', class_='XWcVob YMlIz ogfYpf tPgKwe').text\\n        aero_chegada_retorno = volta.find('div', class_='c8rWCd sSHqwe ogfYpf tPgKwe').text\\n        duracao_volta        = volta.find('div', class_='hF6lYb sSHqwe ogfYpf tPgKwe').find_all('span')[4].text\\n        compania_volta       = volta.find('div', class_='hF6lYb sSHqwe ogfYpf tPgKwe').find('span', class_='h1fkLb').span.text\\n\\n        voltas.append(['VOLTA', aero_retorno, compania_volta, hora_retorno, duracao_volta, hora_retorno,  aero_retorno, preco])\\n    columns = ['SENTIDO','Aero Sa\\u00edda','Companhia Sa\\u00edda','Hora Sa\\u00edda', 'Dura\\u00e7\\u00e3o','Horario chegada', 'Aero Chegada', 'Preco']\\n    \\n    return pd.concat([pd.DataFrame(idas, columns = columns), pd.DataFrame(voltas, columns = columns)])\";\n",
       "                var nbb_formatted_code = \"def fetch_google(navegador):\\n    idas = []\\n    voltas = []\\n\\n    soup = BeautifulSoup(navegador.page_source, \\\"lxml\\\")\\n\\n    for ida in soup.find(\\\"div\\\", class_=\\\"VKb8lb H4aYKc\\\").find_all(\\n        \\\"div\\\", class_=\\\"mz0jqb taHBqe Qpcsfe\\\"\\n    ):\\n\\n        preco = ida.find(\\\"div\\\", class_=\\\"BVAVmf tPgKwe\\\").span.text\\n        hora_partida = ida.find(\\\"div\\\", class_=\\\"wtdjmc YMlIz ogfYpf tPgKwe\\\").text\\n        aero_partida = ida.find(\\\"div\\\", class_=\\\"G2WY5c sSHqwe ogfYpf tPgKwe\\\").text\\n        hora_chegada = ida.find(\\\"div\\\", class_=\\\"XWcVob YMlIz ogfYpf tPgKwe\\\").text\\n        aero_chegada = ida.find(\\\"div\\\", class_=\\\"c8rWCd sSHqwe ogfYpf tPgKwe\\\").text\\n        duracao_ida = (\\n            ida.find(\\\"div\\\", class_=\\\"hF6lYb sSHqwe ogfYpf tPgKwe\\\")\\n            .find_all(\\\"span\\\")[4]\\n            .text\\n        )\\n        compania_ida = (\\n            ida.find(\\\"div\\\", class_=\\\"hF6lYb sSHqwe ogfYpf tPgKwe\\\")\\n            .find(\\\"span\\\", class_=\\\"h1fkLb\\\")\\n            .span.text\\n        )\\n\\n        idas.append(\\n            [\\n                \\\"IDA\\\",\\n                aero_partida,\\n                compania_ida,\\n                hora_partida,\\n                duracao_ida,\\n                hora_chegada,\\n                aero_chegada,\\n                preco,\\n            ]\\n        )\\n\\n    # MUDAR PARA TELA DE RETORNOS\\n    navegador.find_element_by_xpath(\\n        '//*[@id=\\\"yDmH0d\\\"]/c-wiz[2]/div/div[2]/c-wiz/div/c-wiz/c-wiz/div[2]/div[2]/div/div[2]/div[4]/div/div[2]/div/div[1]'\\n    ).click()\\n\\n    time.sleep(2)\\n    soup2 = BeautifulSoup(navegador.page_source, \\\"lxml\\\")\\n\\n    for volta in soup2.find(\\\"div\\\", class_=\\\"VKb8lb H4aYKc\\\").find_all(\\n        \\\"div\\\", class_=\\\"mz0jqb taHBqe Qpcsfe\\\"\\n    ):\\n\\n        preco = volta.find(\\\"div\\\", class_=\\\"BVAVmf tPgKwe\\\").span.text\\n        hora_retorno = volta.find(\\\"div\\\", class_=\\\"wtdjmc YMlIz ogfYpf tPgKwe\\\").text\\n        aero_retorno = volta.find(\\\"div\\\", class_=\\\"G2WY5c sSHqwe ogfYpf tPgKwe\\\").text\\n        hora_chegada_retorno = volta.find(\\n            \\\"div\\\", class_=\\\"XWcVob YMlIz ogfYpf tPgKwe\\\"\\n        ).text\\n        aero_chegada_retorno = volta.find(\\n            \\\"div\\\", class_=\\\"c8rWCd sSHqwe ogfYpf tPgKwe\\\"\\n        ).text\\n        duracao_volta = (\\n            volta.find(\\\"div\\\", class_=\\\"hF6lYb sSHqwe ogfYpf tPgKwe\\\")\\n            .find_all(\\\"span\\\")[4]\\n            .text\\n        )\\n        compania_volta = (\\n            volta.find(\\\"div\\\", class_=\\\"hF6lYb sSHqwe ogfYpf tPgKwe\\\")\\n            .find(\\\"span\\\", class_=\\\"h1fkLb\\\")\\n            .span.text\\n        )\\n\\n        voltas.append(\\n            [\\n                \\\"VOLTA\\\",\\n                aero_retorno,\\n                compania_volta,\\n                hora_retorno,\\n                duracao_volta,\\n                hora_retorno,\\n                aero_retorno,\\n                preco,\\n            ]\\n        )\\n    columns = [\\n        \\\"SENTIDO\\\",\\n        \\\"Aero Sa\\u00edda\\\",\\n        \\\"Companhia Sa\\u00edda\\\",\\n        \\\"Hora Sa\\u00edda\\\",\\n        \\\"Dura\\u00e7\\u00e3o\\\",\\n        \\\"Horario chegada\\\",\\n        \\\"Aero Chegada\\\",\\n        \\\"Preco\\\",\\n    ]\\n\\n    return pd.concat(\\n        [pd.DataFrame(idas, columns=columns), pd.DataFrame(voltas, columns=columns)]\\n    )\";\n",
       "                var nbb_cells = Jupyter.notebook.get_cells();\n",
       "                for (var i = 0; i < nbb_cells.length; ++i) {\n",
       "                    if (nbb_cells[i].input_prompt_number == nbb_cell_id) {\n",
       "                        if (nbb_cells[i].get_text() == nbb_unformatted_code) {\n",
       "                             nbb_cells[i].set_text(nbb_formatted_code);\n",
       "                        }\n",
       "                        break;\n",
       "                    }\n",
       "                }\n",
       "            }, 500);\n",
       "            "
      ],
      "text/plain": [
       "<IPython.core.display.Javascript object>"
      ]
     },
     "metadata": {},
     "output_type": "display_data"
    }
   ],
   "source": [
    "def fetch_google(navegador):\n",
    "    \n",
    "    idas   = []\n",
    "    voltas = []\n",
    "\n",
    "    soup = BeautifulSoup(navegador.page_source, 'lxml')\n",
    "\n",
    "    for ida in soup.find('div', class_='VKb8lb H4aYKc').find_all('div', class_='mz0jqb taHBqe Qpcsfe'):\n",
    "\n",
    "        preco        = ida.find('div', class_='BVAVmf tPgKwe').span.text\n",
    "        hora_partida = ida.find('div', class_='wtdjmc YMlIz ogfYpf tPgKwe').text\n",
    "        aero_partida = ida.find('div', class_='G2WY5c sSHqwe ogfYpf tPgKwe').text\n",
    "        hora_chegada = ida.find('div', class_='XWcVob YMlIz ogfYpf tPgKwe').text\n",
    "        aero_chegada = ida.find('div', class_='c8rWCd sSHqwe ogfYpf tPgKwe').text\n",
    "        duracao_ida  = ida.find('div', class_='hF6lYb sSHqwe ogfYpf tPgKwe').find_all('span')[4].text\n",
    "        compania_ida = ida.find('div', class_='hF6lYb sSHqwe ogfYpf tPgKwe').find('span', class_='h1fkLb').span.text\n",
    "\n",
    "        idas.append(['IDA', aero_partida, compania_ida, hora_partida, duracao_ida, hora_chegada,  aero_chegada, preco])\n",
    "\n",
    "    #MUDAR PARA TELA DE RETORNOS\n",
    "    navegador.find_element_by_xpath('//*[@id=\"yDmH0d\"]/c-wiz[2]/div/div[2]/c-wiz/div/c-wiz/c-wiz/div[2]/div[2]/div/div[2]/div[4]/div/div[2]/div/div[1]').click()\n",
    "\n",
    "    time.sleep(2)\n",
    "    soup2 = BeautifulSoup(navegador.page_source, 'lxml')\n",
    "\n",
    "    for volta in soup2.find('div', class_='VKb8lb H4aYKc').find_all('div', class_='mz0jqb taHBqe Qpcsfe'):\n",
    "\n",
    "        preco                = volta.find('div', class_='BVAVmf tPgKwe').span.text\n",
    "        hora_retorno         = volta.find('div', class_='wtdjmc YMlIz ogfYpf tPgKwe').text\n",
    "        aero_retorno         = volta.find('div', class_='G2WY5c sSHqwe ogfYpf tPgKwe').text\n",
    "        hora_chegada_retorno = volta.find('div', class_='XWcVob YMlIz ogfYpf tPgKwe').text\n",
    "        aero_chegada_retorno = volta.find('div', class_='c8rWCd sSHqwe ogfYpf tPgKwe').text\n",
    "        duracao_volta        = volta.find('div', class_='hF6lYb sSHqwe ogfYpf tPgKwe').find_all('span')[4].text\n",
    "        compania_volta       = volta.find('div', class_='hF6lYb sSHqwe ogfYpf tPgKwe').find('span', class_='h1fkLb').span.text\n",
    "\n",
    "        voltas.append(['VOLTA', aero_retorno, compania_volta, hora_retorno, duracao_volta, hora_retorno,  aero_retorno, preco])\n",
    "    columns = ['SENTIDO','Aero Saída','Companhia Saída','Hora Saída', 'Duração','Horario chegada', 'Aero Chegada', 'Preco']\n",
    "    \n",
    "    return pd.concat([pd.DataFrame(idas, columns = columns), pd.DataFrame(voltas, columns = columns)])"
   ]
  },
  {
   "cell_type": "code",
   "execution_count": 52,
   "id": "50c192c0-7763-472b-89dd-e42cddb98a42",
   "metadata": {},
   "outputs": [
    {
     "data": {
      "application/javascript": [
       "\n",
       "            setTimeout(function() {\n",
       "                var nbb_cell_id = 52;\n",
       "                var nbb_unformatted_code = \"df = coleta_resultados_google(cidade_origem, cidade_destino, data_partida, data_retorno)\";\n",
       "                var nbb_formatted_code = \"df = coleta_resultados_google(cidade_origem, cidade_destino, data_partida, data_retorno)\";\n",
       "                var nbb_cells = Jupyter.notebook.get_cells();\n",
       "                for (var i = 0; i < nbb_cells.length; ++i) {\n",
       "                    if (nbb_cells[i].input_prompt_number == nbb_cell_id) {\n",
       "                        if (nbb_cells[i].get_text() == nbb_unformatted_code) {\n",
       "                             nbb_cells[i].set_text(nbb_formatted_code);\n",
       "                        }\n",
       "                        break;\n",
       "                    }\n",
       "                }\n",
       "            }, 500);\n",
       "            "
      ],
      "text/plain": [
       "<IPython.core.display.Javascript object>"
      ]
     },
     "metadata": {},
     "output_type": "display_data"
    }
   ],
   "source": [
    "df = coleta_resultados_google(cidade_origem, cidade_destino, data_partida, data_retorno)"
   ]
  },
  {
   "cell_type": "code",
   "execution_count": 53,
   "id": "a29b7fde-b74c-4e7b-9ba8-8ba3752df59e",
   "metadata": {},
   "outputs": [
    {
     "data": {
      "text/html": [
       "<div>\n",
       "<style scoped>\n",
       "    .dataframe tbody tr th:only-of-type {\n",
       "        vertical-align: middle;\n",
       "    }\n",
       "\n",
       "    .dataframe tbody tr th {\n",
       "        vertical-align: top;\n",
       "    }\n",
       "\n",
       "    .dataframe thead th {\n",
       "        text-align: right;\n",
       "    }\n",
       "</style>\n",
       "<table border=\"1\" class=\"dataframe\">\n",
       "  <thead>\n",
       "    <tr style=\"text-align: right;\">\n",
       "      <th></th>\n",
       "      <th>SENTIDO</th>\n",
       "      <th>Aero Saída</th>\n",
       "      <th>Companhia Saída</th>\n",
       "      <th>Hora Saída</th>\n",
       "      <th>Duração</th>\n",
       "      <th>Horario chegada</th>\n",
       "      <th>Aero Chegada</th>\n",
       "      <th>Preco</th>\n",
       "    </tr>\n",
       "  </thead>\n",
       "  <tbody>\n",
       "    <tr>\n",
       "      <th>0</th>\n",
       "      <td>IDA</td>\n",
       "      <td>GRU</td>\n",
       "      <td>Gol</td>\n",
       "      <td>10:05 AM</td>\n",
       "      <td>2 hr 50 min</td>\n",
       "      <td>12:55 PM</td>\n",
       "      <td>MCZ</td>\n",
       "      <td>R$1,560</td>\n",
       "    </tr>\n",
       "    <tr>\n",
       "      <th>1</th>\n",
       "      <td>IDA</td>\n",
       "      <td>GRU</td>\n",
       "      <td>LATAM</td>\n",
       "      <td>2:00 PM</td>\n",
       "      <td>2 hr 45 min</td>\n",
       "      <td>4:45 PM</td>\n",
       "      <td>MCZ</td>\n",
       "      <td>R$1,560</td>\n",
       "    </tr>\n",
       "    <tr>\n",
       "      <th>2</th>\n",
       "      <td>IDA</td>\n",
       "      <td>GRU</td>\n",
       "      <td>Gol</td>\n",
       "      <td>2:50 PM</td>\n",
       "      <td>3 hr</td>\n",
       "      <td>5:50 PM</td>\n",
       "      <td>MCZ</td>\n",
       "      <td>R$1,560</td>\n",
       "    </tr>\n",
       "    <tr>\n",
       "      <th>3</th>\n",
       "      <td>IDA</td>\n",
       "      <td>GRU</td>\n",
       "      <td>LATAM</td>\n",
       "      <td>9:00 PM</td>\n",
       "      <td>2 hr 50 min</td>\n",
       "      <td>11:50 PM</td>\n",
       "      <td>MCZ</td>\n",
       "      <td>R$1,560</td>\n",
       "    </tr>\n",
       "    <tr>\n",
       "      <th>4</th>\n",
       "      <td>IDA</td>\n",
       "      <td>GRU</td>\n",
       "      <td>Gol</td>\n",
       "      <td>10:35 PM</td>\n",
       "      <td>2 hr 55 min</td>\n",
       "      <td>1:30 AM+1</td>\n",
       "      <td>MCZ</td>\n",
       "      <td>R$1,560</td>\n",
       "    </tr>\n",
       "    <tr>\n",
       "      <th>0</th>\n",
       "      <td>VOLTA</td>\n",
       "      <td>MCZ</td>\n",
       "      <td>Gol</td>\n",
       "      <td>7:00 PM</td>\n",
       "      <td>3 hr 5 min</td>\n",
       "      <td>7:00 PM</td>\n",
       "      <td>MCZ</td>\n",
       "      <td>R$1,560</td>\n",
       "    </tr>\n",
       "  </tbody>\n",
       "</table>\n",
       "</div>"
      ],
      "text/plain": [
       "  SENTIDO Aero Saída Companhia Saída Hora Saída      Duração Horario chegada  \\\n",
       "0     IDA        GRU             Gol   10:05 AM  2 hr 50 min        12:55 PM   \n",
       "1     IDA        GRU           LATAM    2:00 PM  2 hr 45 min         4:45 PM   \n",
       "2     IDA        GRU             Gol    2:50 PM         3 hr         5:50 PM   \n",
       "3     IDA        GRU           LATAM    9:00 PM  2 hr 50 min        11:50 PM   \n",
       "4     IDA        GRU             Gol   10:35 PM  2 hr 55 min       1:30 AM+1   \n",
       "0   VOLTA        MCZ             Gol    7:00 PM   3 hr 5 min         7:00 PM   \n",
       "\n",
       "  Aero Chegada    Preco  \n",
       "0          MCZ  R$1,560  \n",
       "1          MCZ  R$1,560  \n",
       "2          MCZ  R$1,560  \n",
       "3          MCZ  R$1,560  \n",
       "4          MCZ  R$1,560  \n",
       "0          MCZ  R$1,560  "
      ]
     },
     "execution_count": 53,
     "metadata": {},
     "output_type": "execute_result"
    },
    {
     "data": {
      "application/javascript": [
       "\n",
       "            setTimeout(function() {\n",
       "                var nbb_cell_id = 53;\n",
       "                var nbb_unformatted_code = \"df\";\n",
       "                var nbb_formatted_code = \"df\";\n",
       "                var nbb_cells = Jupyter.notebook.get_cells();\n",
       "                for (var i = 0; i < nbb_cells.length; ++i) {\n",
       "                    if (nbb_cells[i].input_prompt_number == nbb_cell_id) {\n",
       "                        if (nbb_cells[i].get_text() == nbb_unformatted_code) {\n",
       "                             nbb_cells[i].set_text(nbb_formatted_code);\n",
       "                        }\n",
       "                        break;\n",
       "                    }\n",
       "                }\n",
       "            }, 500);\n",
       "            "
      ],
      "text/plain": [
       "<IPython.core.display.Javascript object>"
      ]
     },
     "metadata": {},
     "output_type": "display_data"
    }
   ],
   "source": [
    "df"
   ]
  },
  {
   "cell_type": "code",
   "execution_count": 22,
   "id": "d9f16fcf-05db-494a-b292-cbafe8ae1585",
   "metadata": {},
   "outputs": [
    {
     "data": {
      "application/javascript": [
       "\n",
       "            setTimeout(function() {\n",
       "                var nbb_cell_id = 22;\n",
       "                var nbb_unformatted_code = \"def google_ftime(data_partida, data_retorno):\\n    \\n    datetime_partida = datetime.strptime(data_partida, '%d/%m/%Y')\\n    fpartida = datetime_partida.strftime('%a, %b %d')\\n    \\n    datetime_retorno= datetime.strptime(data_retorno, '%d/%m/%Y')\\n    fretorno = datetime_retorno.strftime('%a, %b %d')\\n    \\n    return fpartida, fretorno\";\n",
       "                var nbb_formatted_code = \"def google_ftime(data_partida, data_retorno):\\n\\n    datetime_partida = datetime.strptime(data_partida, \\\"%d/%m/%Y\\\")\\n    fpartida = datetime_partida.strftime(\\\"%a, %b %d\\\")\\n\\n    datetime_retorno = datetime.strptime(data_retorno, \\\"%d/%m/%Y\\\")\\n    fretorno = datetime_retorno.strftime(\\\"%a, %b %d\\\")\\n\\n    return fpartida, fretorno\";\n",
       "                var nbb_cells = Jupyter.notebook.get_cells();\n",
       "                for (var i = 0; i < nbb_cells.length; ++i) {\n",
       "                    if (nbb_cells[i].input_prompt_number == nbb_cell_id) {\n",
       "                        if (nbb_cells[i].get_text() == nbb_unformatted_code) {\n",
       "                             nbb_cells[i].set_text(nbb_formatted_code);\n",
       "                        }\n",
       "                        break;\n",
       "                    }\n",
       "                }\n",
       "            }, 500);\n",
       "            "
      ],
      "text/plain": [
       "<IPython.core.display.Javascript object>"
      ]
     },
     "metadata": {},
     "output_type": "display_data"
    }
   ],
   "source": [
    "def google_ftime(data_partida, data_retorno):\n",
    "    \n",
    "    datetime_partida = datetime.strptime(data_partida, '%d/%m/%Y')\n",
    "    fpartida = datetime_partida.strftime('%a, %b %d')\n",
    "    \n",
    "    datetime_retorno= datetime.strptime(data_retorno, '%d/%m/%Y')\n",
    "    fretorno = datetime_retorno.strftime('%a, %b %d')\n",
    "    \n",
    "    return fpartida, fretorno"
   ]
  },
  {
   "cell_type": "code",
   "execution_count": 56,
   "id": "e834e1d4-6b7f-460e-b854-84f7ca9197cf",
   "metadata": {},
   "outputs": [
    {
     "data": {
      "application/javascript": [
       "\n",
       "            setTimeout(function() {\n",
       "                var nbb_cell_id = 56;\n",
       "                var nbb_unformatted_code = \"drv = webdriver.Chrome()\";\n",
       "                var nbb_formatted_code = \"drv = webdriver.Chrome()\";\n",
       "                var nbb_cells = Jupyter.notebook.get_cells();\n",
       "                for (var i = 0; i < nbb_cells.length; ++i) {\n",
       "                    if (nbb_cells[i].input_prompt_number == nbb_cell_id) {\n",
       "                        if (nbb_cells[i].get_text() == nbb_unformatted_code) {\n",
       "                             nbb_cells[i].set_text(nbb_formatted_code);\n",
       "                        }\n",
       "                        break;\n",
       "                    }\n",
       "                }\n",
       "            }, 500);\n",
       "            "
      ],
      "text/plain": [
       "<IPython.core.display.Javascript object>"
      ]
     },
     "metadata": {},
     "output_type": "display_data"
    }
   ],
   "source": [
    "drv = webdriver.Chrome()"
   ]
  },
  {
   "cell_type": "code",
   "execution_count": 57,
   "id": "96f10942-231d-4e60-b738-0e9183da545e",
   "metadata": {},
   "outputs": [
    {
     "data": {
      "application/javascript": [
       "\n",
       "            setTimeout(function() {\n",
       "                var nbb_cell_id = 57;\n",
       "                var nbb_unformatted_code = \"drv.quit()\";\n",
       "                var nbb_formatted_code = \"drv.quit()\";\n",
       "                var nbb_cells = Jupyter.notebook.get_cells();\n",
       "                for (var i = 0; i < nbb_cells.length; ++i) {\n",
       "                    if (nbb_cells[i].input_prompt_number == nbb_cell_id) {\n",
       "                        if (nbb_cells[i].get_text() == nbb_unformatted_code) {\n",
       "                             nbb_cells[i].set_text(nbb_formatted_code);\n",
       "                        }\n",
       "                        break;\n",
       "                    }\n",
       "                }\n",
       "            }, 500);\n",
       "            "
      ],
      "text/plain": [
       "<IPython.core.display.Javascript object>"
      ]
     },
     "metadata": {},
     "output_type": "display_data"
    }
   ],
   "source": [
    "drv.quit()"
   ]
  },
  {
   "cell_type": "code",
   "execution_count": null,
   "id": "030a853f-d92b-4419-8c81-fc372360dbe8",
   "metadata": {},
   "outputs": [],
   "source": []
  }
 ],
 "metadata": {
  "kernelspec": {
   "display_name": "Python 3 (ipykernel)",
   "language": "python",
   "name": "python3"
  },
  "language_info": {
   "codemirror_mode": {
    "name": "ipython",
    "version": 3
   },
   "file_extension": ".py",
   "mimetype": "text/x-python",
   "name": "python",
   "nbconvert_exporter": "python",
   "pygments_lexer": "ipython3",
   "version": "3.9.11"
  }
 },
 "nbformat": 4,
 "nbformat_minor": 5
}
